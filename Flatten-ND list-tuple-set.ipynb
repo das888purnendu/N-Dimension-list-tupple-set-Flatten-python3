{
 "cells": [
  {
   "cell_type": "markdown",
   "metadata": {},
   "source": [
    "# Flatten a List  "
   ]
  },
  {
   "cell_type": "code",
   "execution_count": 35,
   "metadata": {},
   "outputs": [],
   "source": [
    "def flatten_list(n):\n",
    "    res=[]\n",
    "    typ = type(n)\n",
    "    if (typ==list or typ==tuple or typ==set) :\n",
    "        for item in n:\n",
    "            item_typ = type(item)\n",
    "            if (item_typ == str or item_typ==int or item_typ==float):\n",
    "                res.append(item)\n",
    "            elif (item_typ==list or item_typ==tuple or item_typ==set):\n",
    "                res.extend(flatten_list(item)) # Recursion\n",
    "    else:\n",
    "        return(n)\n",
    "    return (res)"
   ]
  },
  {
   "cell_type": "code",
   "execution_count": 36,
   "metadata": {},
   "outputs": [],
   "source": [
    "a=[11,2,33,[4,5,[61,7,[90,0.8,[10,11,[12,13]],(\"a\",\"z\",\"v\",\"b\",3.2)],{17,18,19}]]]\n",
    "b = flatten_list(a)"
   ]
  },
  {
   "cell_type": "code",
   "execution_count": 37,
   "metadata": {},
   "outputs": [
    {
     "name": "stdout",
     "output_type": "stream",
     "text": [
      "[11, 2, 33, 4, 5, 61, 7, 90, 0.8, 10, 11, 12, 13, 'a', 'z', 'v', 'b', 3.2, 17, 18, 19]\n"
     ]
    }
   ],
   "source": [
    "print(b)"
   ]
  },
  {
   "cell_type": "code",
   "execution_count": 48,
   "metadata": {},
   "outputs": [],
   "source": [
    "def sorting(b):\n",
    "    num=[]\n",
    "    char=[]\n",
    "    for l in b:\n",
    "        if(type(l)== int or type(l)== float):\n",
    "            num.append(l)\n",
    "        else:\n",
    "            char.append(l)\n",
    "    num.sort()\n",
    "    char.sort()\n",
    "    c = num+char\n",
    "    return(c)"
   ]
  },
  {
   "cell_type": "code",
   "execution_count": 49,
   "metadata": {},
   "outputs": [
    {
     "name": "stdout",
     "output_type": "stream",
     "text": [
      "[0.8, 2, 3.2, 4, 5, 7, 10, 11, 11, 12, 13, 17, 18, 19, 33, 61, 90, 'a', 'b', 'v', 'z']\n"
     ]
    }
   ],
   "source": [
    "print(sorting(b))"
   ]
  }
 ],
 "metadata": {
  "kernelspec": {
   "display_name": "Python 3",
   "language": "python",
   "name": "python3"
  },
  "language_info": {
   "codemirror_mode": {
    "name": "ipython",
    "version": 3
   },
   "file_extension": ".py",
   "mimetype": "text/x-python",
   "name": "python",
   "nbconvert_exporter": "python",
   "pygments_lexer": "ipython3",
   "version": "3.7.3"
  }
 },
 "nbformat": 4,
 "nbformat_minor": 2
}
